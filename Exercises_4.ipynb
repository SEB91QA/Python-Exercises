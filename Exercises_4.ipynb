{
 "cells": [
  {
   "cell_type": "markdown",
   "metadata": {},
   "source": [
    "# Exercises 4"
   ]
  },
  {
   "cell_type": "markdown",
   "metadata": {},
   "source": [
    "## 1. Write a Python program that calculates how much money you can spend each day for lunch for the rest of the month based on today’s date and how much money you currently have in your lunch account. The program should ask you: (1) how much money you have in your account, (2) what today’s date is, and (3) how many days there are in the month. The program should return your daily allowance. The results of running your program should look like this:"
   ]
  },
  {
   "cell_type": "markdown",
   "metadata": {},
   "source": [
    "#### How much money (in dollars) in your lunch account? 319\n",
    "#### What day of the month is today? 21\n",
    "#### How many days in this month? 30\n",
    "#### You can spend 31.90 each day for the rest of the month.\n"
   ]
  },
  {
   "cell_type": "markdown",
   "metadata": {},
   "source": [
    "## Extra: Create a dictionary (see §3.4) that stores the number of days in each month (forget about leap years) and have your program ask what month it is rather than the number of days in the month.\n"
   ]
  },
  {
   "cell_type": "code",
   "execution_count": 41,
   "metadata": {},
   "outputs": [
    {
     "name": "stdout",
     "output_type": "stream",
     "text": [
      "How much money (in dollars) in your lunch account? 319\n",
      "What day of the month is today? 21\n",
      "How many days in this month? 30\n"
     ]
    }
   ],
   "source": [
    "import numpy as np\n",
    "\n",
    "lunch_account = float(input(\"How much money (in dollars) in your lunch account?\"))\n",
    "day_month     = float(input(\"What day of the month is today?\"))\n",
    "days_month    = float(input(\"How many days in this month?\"))\n"
   ]
  },
  {
   "cell_type": "code",
   "execution_count": 42,
   "metadata": {},
   "outputs": [
    {
     "name": "stdout",
     "output_type": "stream",
     "text": [
      "You can spend $31.90 each day for the rest of the month.\n"
     ]
    }
   ],
   "source": [
    "days_left = lunch_account/((days_month - day_month) + 1)\n",
    "print(\"You can spend ${0:.2f} each day for the rest of the month.\".format(days_left))"
   ]
  },
  {
   "cell_type": "code",
   "execution_count": 43,
   "metadata": {},
   "outputs": [
    {
     "name": "stdout",
     "output_type": "stream",
     "text": [
      "How much money (in dollars) in your lunch account?:  319\n",
      "What month: July\n",
      "What day of this month?.21\n",
      "You can spend $31.90 each day for the rest of the month.\n"
     ]
    }
   ],
   "source": [
    "\n",
    "\n",
    "year = {\"January\":31, \"February\":28, \"March\":21, \"April\":31, \"May\":31, \"June\":30, \"July\":30, \"August\":31, \"September\":30, \"October\":31, \"November\":30, \"December\":31}\n",
    "\n",
    "lunch_account = float(input(\"How much money (in dollars) in your lunch account?: \"))\n",
    "month         = input(\"What month: \")\n",
    "day_month     = float(input(\"What day of this month?: \"))\n",
    "\n",
    "days_left = lunch_account/ ((year[month]-day_month) + 1)\n",
    "print(\"You can spend ${0:0.2f} each day for the rest of the month.\".format(days_left))\n"
   ]
  },
  {
   "cell_type": "markdown",
   "metadata": {},
   "source": [
    "## 2. From the IPython terminal, create the following three NumPy arrays:\n",
    "\n",
    "\n",
    "#### a = array([1, 3, 5, 7])\n",
    "#### b = array([8, 7, 5, 4])\n",
    "#### c = array([0, 9,-6,-8])\n",
    "\n",
    "## Now use the $\\textit{zip}$ function to create a list d defined as. \n",
    "\n",
    "#### d = list(zip(a,b,c))\n",
    "\n",
    "## What kind of object is each of the four elements of the list d? Convert d into a NumPy array and call that array e. Type e at the terminal prompt so that e is printed out on the IPython terminal. One of the elements of e is -8. Show how to address and print out just that element of e. Show how to address that same element of d. What kind of object is e[1]?\n"
   ]
  },
  {
   "cell_type": "code",
   "execution_count": 62,
   "metadata": {},
   "outputs": [
    {
     "name": "stdout",
     "output_type": "stream",
     "text": [
      "[(1, 8, 0), (3, 7, 9), (5, 5, -6), (7, 4, -8)]\n",
      "<class 'list'>\n",
      "<class 'tuple'>\n",
      "[[ 1  8  0]\n",
      " [ 3  7  9]\n",
      " [ 5  5 -6]\n",
      " [ 7  4 -8]]\n",
      "<class 'numpy.ndarray'>\n",
      "<class 'numpy.ndarray'>\n"
     ]
    }
   ],
   "source": [
    "import numpy as np\n",
    "\n",
    "a = [1, 3, 5, 7]\n",
    "b = [8, 7, 5, 4]\n",
    "c = [0, 9, -6, -8]\n",
    "\n",
    "d = list(zip(a,b,c))\n",
    "print(d)\n",
    "print(type(d))\n",
    "print(type(d[1]))\n",
    "#It creates a list of tuples\n",
    "\n",
    "e = np.array(d)\n",
    "print(e)\n",
    "print(type(e))\n",
    "print(type(e[1]))\n",
    "#It creates a Numpy array o Nympy array"
   ]
  },
  {
   "cell_type": "code",
   "execution_count": 67,
   "metadata": {},
   "outputs": [
    {
     "name": "stdout",
     "output_type": "stream",
     "text": [
      "-8\n",
      "-8\n",
      "[3 7 9]\n"
     ]
    }
   ],
   "source": [
    "print(e[3][2])\n",
    "#Element -8\n",
    "print(d[3][2])\n",
    "#Element -8\n",
    "\n",
    "print(e[1])"
   ]
  },
  {
   "cell_type": "markdown",
   "metadata": {},
   "source": [
    "## 3. Create the following data file and then write a Python script to read it into three NumPy arrays with the variable names $f$, $a$, $da$ for the frequency, amplitude, and amplitude error.\n"
   ]
  },
  {
   "cell_type": "code",
   "execution_count": 4,
   "metadata": {},
   "outputs": [
    {
     "name": "stdout",
     "output_type": "stream",
     "text": [
      "[ 0.75    1.7885  2.8269  3.8654  4.9038  5.9423  6.9808  8.0192  9.0577\n",
      " 10.0962 11.1346 12.1731 13.2115 14.25  ]\n",
      "[13.52 12.11 14.27 16.6  22.91 35.28 60.99 33.38 17.78 10.99  7.47  6.72\n",
      "  4.4   4.07]\n",
      "[0.32 0.92 0.73 2.06 1.75 0.91 0.99 0.36 2.32 0.21 0.48 0.51 0.58 0.63]\n"
     ]
    },
    {
     "data": {
      "text/plain": [
       "numpy.ndarray"
      ]
     },
     "execution_count": 4,
     "metadata": {},
     "output_type": "execute_result"
    }
   ],
   "source": [
    "import numpy as np\n",
    "\n",
    "f, a, da = np.loadtxt(\"datafile.txt\", skiprows=3, unpack=True)\n",
    "print(f)\n",
    "print(a)\n",
    "print(da)"
   ]
  },
  {
   "cell_type": "markdown",
   "metadata": {},
   "source": [
    "# 4. Write a script to read the data from the previous problem into three NumPy arrays with the variable names f, a, da for the frequency, amplitude, and amplitude error and then, in the same script, write the data out to a data file, including the header, with the data displayed in three columns, just as it’s displayed in the problem above. It’s ok if the header lines begin with the # com- ment character. Your data file should have the extension .txt."
   ]
  },
  {
   "cell_type": "code",
   "execution_count": 11,
   "metadata": {},
   "outputs": [],
   "source": [
    "import numpy as np\n",
    "\n",
    "f, a, da = np.loadtxt(\"datafile.txt\", skiprows=3, unpack=True)\n",
    "\n",
    "\n",
    "info = \"Date: 2013-09-16\"\n",
    "info += \"\\nData taken by Liam and Selena\"\n",
    "info += \"\\nfrequency (Hz) amplitude (mm) amp error (mm)\\n\"\n",
    "\n",
    "np.savetxt(\"newdatafile.txt\", list(zip(f, a, da)), header = info, fmt = '%12.4f')\n"
   ]
  },
  {
   "cell_type": "markdown",
   "metadata": {},
   "source": [
    "# 5. Write a script to read the data from the previous problem into three NumPy arrays with the variable names f, a, da for the frequency, amplitude, and amplitude error and then, in the same script, write the data out to a csv data file, without the header, to a data file with the data displayed in three columns preadsheet program (like MS Excel), try opening the file you have created with your Python script and verify that the arrays are displayed in three columns. \n",
    "\n",
    "# Note that your csv file should have the extension .csv.s. Use a single format specifier and set it to \"%0.16e\". If you have access the spreadsheet program (like MS Excel), try opening the file you have created with your Python script and verify that the arrays are displayed in three columns. Note that your csv file should have the extension .csv."
   ]
  },
  {
   "cell_type": "code",
   "execution_count": 13,
   "metadata": {},
   "outputs": [],
   "source": [
    "import numpy as np\n",
    "\n",
    "f, a, da = np.loadtxt(\"datafile2.txt\", skiprows=3, unpack=True)\n",
    "\n",
    "np.savetxt(\"newdatafile2.csv\", list(zip(f, a, da)), fmt=\"%0.16e\", delimiter=',')"
   ]
  },
  {
   "cell_type": "code",
   "execution_count": null,
   "metadata": {},
   "outputs": [],
   "source": []
  }
 ],
 "metadata": {
  "kernelspec": {
   "display_name": "Python 3",
   "language": "python",
   "name": "python3"
  },
  "language_info": {
   "codemirror_mode": {
    "name": "ipython",
    "version": 3
   },
   "file_extension": ".py",
   "mimetype": "text/x-python",
   "name": "python",
   "nbconvert_exporter": "python",
   "pygments_lexer": "ipython3",
   "version": "3.8.5"
  }
 },
 "nbformat": 4,
 "nbformat_minor": 4
}
