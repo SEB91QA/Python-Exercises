{
 "cells": [
  {
   "cell_type": "markdown",
   "metadata": {},
   "source": [
    "# (1) Numerically solve the following system of equations"
   ]
  },
  {
   "cell_type": "markdown",
   "metadata": {},
   "source": [
    "$x_{1} - 2x_{2} + 9x_{3} + 13x_{4} = 1\\\\\n",
    "-5x_{1} + x_{2} +6x_{3} - 7x_{4} = -3\\\\\n",
    "4x_{1} + 8x_{2} - 4x_{3} - 2x_{4} = -2\\\\\n",
    "8x_{1} + 5x_{2} - 7x_{3} + x_{4} = 5$"
   ]
  },
  {
   "cell_type": "code",
   "execution_count": 12,
   "metadata": {},
   "outputs": [
    {
     "name": "stdout",
     "output_type": "stream",
     "text": [
      "[ 1.76839237 -1.02724796  0.49318801 -0.55858311]\n",
      "[ 1.76839237 -1.02724796  0.49318801 -0.55858311]\n"
     ]
    }
   ],
   "source": [
    "import numpy as np\n",
    "import scipy.linalg\n",
    "\n",
    "A = np.array([[1, -2, 9, 13], [-5, 1, 6, -7], [4, 8, -4, -2], [8, 5, -7, 1]])\n",
    "b = np.array([1, -3, -2, 5])\n",
    "\n",
    "solv1 = scipy.linalg.solve(A, b)\n",
    "print(solv1)\n",
    "\n",
    "#-------------------\n",
    "\n",
    "invA = scipy.linalg.inv(A)\n",
    "solv2 = np.dot(invA, b)\n",
    "print(solv2)\n",
    "\n"
   ]
  },
  {
   "cell_type": "code",
   "execution_count": null,
   "metadata": {},
   "outputs": [],
   "source": []
  }
 ],
 "metadata": {
  "kernelspec": {
   "display_name": "Python 3",
   "language": "python",
   "name": "python3"
  },
  "language_info": {
   "codemirror_mode": {
    "name": "ipython",
    "version": 3
   },
   "file_extension": ".py",
   "mimetype": "text/x-python",
   "name": "python",
   "nbconvert_exporter": "python",
   "pygments_lexer": "ipython3",
   "version": "3.6.10"
  }
 },
 "nbformat": 4,
 "nbformat_minor": 4
}
