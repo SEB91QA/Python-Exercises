{
 "cells": [
  {
   "cell_type": "markdown",
   "metadata": {},
   "source": [
    "# Exercise 1\n",
    "## A ball is thrown vertically up in the air from a height $h_{0}$ above the ground at an initial velocity $v_{0}$. Its subsequent height h and velocity $v$ are given by the equations\n",
    "\n",
    "\\begin{equation}\n",
    "h = h_{0} + v_{0}t - \\frac{1}{2}gt^{2}\n",
    "\\end{equation}\n",
    "\\begin{equation}\n",
    "v = v_{0} - gt\n",
    "\\end{equation}\n",
    "\n",
    "## where $g = 9.8$ is the acceleration due to gravity in $m/s^{2}$. Write a script that finds the height h and velocity $v$ at a time $t$ after the ball is thrown. Start the script by setting $h_{0} = 1.6$ (meters) and $v_{0} = 14.2(m/s)$ and have your script print out the values of height and velocity. Then use the script to find the height and velocity after $0.5$ seconds. Then modify your script to find them after $2.0$ seconds."
   ]
  },
  {
   "cell_type": "code",
   "execution_count": null,
   "metadata": {},
   "outputs": [],
   "source": [
    "import numpy as np\n",
    "import math \n",
    "\n",
    "g = 9.8\n",
    "v_0 = 14.2\n",
    "h_0 = 1.6\n",
    "t_1 = 0.5\n",
    "t_2 = 2.0\n",
    "\n",
    "\n",
    "#Distance 1 \n",
    "h_1 = h_0 + v_0*t_1 - (0.5)*g*(t_1**2)\n",
    "\n",
    "#Velocity 2\n",
    "v_1 = v_0 - g*t_1\n",
    "\n",
    "print(h_1)\n",
    "print(v_1)\n",
    "\n",
    "\n",
    "#Distance 2 \n",
    "h_2 = h_0 + v_0*t_2 - (0.5)*g*(t_2**2)\n",
    "\n",
    "#Velocity 2\n",
    "v_2 = v_0 - g*t_2\n",
    "\n",
    "print(h_2)\n",
    "print(v_2)\n",
    "\n",
    "\n",
    "\n",
    "\n",
    "\n",
    "\n",
    "\n"
   ]
  },
  {
   "cell_type": "markdown",
   "metadata": {},
   "source": [
    "# Exercise 2\n",
    "## Write a scriptt hat defines the variables $V_{0} =10$, $a=2.5$, and $z=4\\frac{1}{3}$, and then evaluates the expression\n",
    "\\begin{equation}\n",
    "V = V_{0}\\left(1-\\frac{z}{\\sqrt{a^2+z^2}}\\right)\n",
    "\\end{equation}\n",
    "## Then find $V$ for $z = 8\\frac{2}{3}$ and print it out (see Note about printing on page 18). Then find $V$ for $z = 13$ by changing the value of $z$ in your script."
   ]
  },
  {
   "cell_type": "code",
   "execution_count": 18,
   "metadata": {},
   "outputs": [
    {
     "name": "stdout",
     "output_type": "stream",
     "text": [
      "5.294117647058824\n"
     ]
    }
   ],
   "source": [
    "import numpy as np\n",
    "import math\n",
    "\n",
    "\n",
    "V_0 = 10\n",
    "a = 2.5\n",
    "z = (4/3)\n",
    "\n",
    "#Value of V\n",
    "\n",
    "\n",
    "V = V_0*(1-(z/(np.sqrt(a**2 + z**2))))\n",
    "\n",
    "print(V)\n"
   ]
  },
  {
   "cell_type": "code",
   "execution_count": 19,
   "metadata": {},
   "outputs": [
    {
     "name": "stdout",
     "output_type": "stream",
     "text": [
      "0.9454106404113161\n"
     ]
    }
   ],
   "source": [
    "z = 16/3\n",
    "V = V_0*(1-(z/(np.sqrt(a**2 + z**2))))\n",
    "print(V)"
   ]
  },
  {
   "cell_type": "code",
   "execution_count": 20,
   "metadata": {},
   "outputs": [
    {
     "name": "stdout",
     "output_type": "stream",
     "text": [
      "0.17993553019352682\n"
     ]
    }
   ],
   "source": [
    "z = 13\n",
    "V = V_0*(1-(z/(np.sqrt(a**2 + z**2))))\n",
    "print(V)"
   ]
  },
  {
   "cell_type": "markdown",
   "metadata": {},
   "source": [
    "# Exercise 3\n",
    "## Write a single Python script that calculates the following expressions:\n",
    "\\begin{equation}\n",
    "a = \\frac{2+e^{2.8}}{\\sqrt{13}-2}\n",
    "\\end{equation}\n",
    "\n",
    "\\begin{equation}\n",
    "b = \\frac{1-(1+In2)^{-3.5}}{1+\\sqrt{5}}\n",
    "\\end{equation}\n",
    "\n",
    "\\begin{equation}\n",
    "c = sin\\left(\\frac{2-\\sqrt{2}}{2+\\sqrt{2}}\\right)\n",
    "\\end{equation}\n",
    "\n",
    "## After running your script in the IPython shell, typing a, b, or c at the IPython prompt should yield the value of the expressions in (a), (b), or (c), respectively.\n"
   ]
  },
  {
   "cell_type": "code",
   "execution_count": 2,
   "metadata": {},
   "outputs": [
    {
     "name": "stdout",
     "output_type": "stream",
     "text": [
      "11.488045914800647\n",
      "0.26008973689431575\n",
      "0.17073234104506005\n"
     ]
    }
   ],
   "source": [
    "import numpy as np\n",
    "import math\n",
    "\n",
    "a = (2 + np.exp(2.8))/(np.sqrt(13)-2)\n",
    "b = (1 - (1 + np.log(2))**(-3.5))/(1 + np.sqrt(5))\n",
    "c = np.sin((2 - np.sqrt(2))/(2 + np.sqrt(2)))\n",
    "\n",
    "\n",
    "print(a)\n",
    "print(b)\n",
    "print(c)"
   ]
  },
  {
   "cell_type": "markdown",
   "metadata": {},
   "source": [
    "# Exercise 4\n",
    "## A quadratic equation with the general formula\n",
    "\\begin{equation}\n",
    "ax^2 + bx + c = 0\n",
    "\\end{equation}\n",
    "## has two solutions given by the quadratic formula\n",
    "\\begin{equation}\n",
    "x = \\frac{-b \\pm \\sqrt{b^2 - 4ac}}{2a}\n",
    "\\end{equation}\n",
    "\n",
    "## (a)  Given a, b, and c as inputs, write a script that gives the numerical values of the two solutions. Write the constants a, b, and c as floats, and show that your script gives the correct solutions for a few test cases when the solutions are real numbers, that is, when the discriminant $b^{2} − 4ac \\geq 0$. Use the print function in your script,  discussed at the end of 2.7.1, to print out your two solutions.\n",
    "\n",
    "## (b) Written this way, however, your script gives an error message when the solutions are complex. For example, see what happens when $a = 1$, $b = 2$, and $c = 3$. You can fix this using statements in your script like $a = a+0j$ after setting at some float value. Thus, you can make the script work for any set of real inputs for a, b, and c. Again, use the print function to print out your two solutions.\n"
   ]
  },
  {
   "cell_type": "code",
   "execution_count": 6,
   "metadata": {},
   "outputs": [
    {
     "name": "stdout",
     "output_type": "stream",
     "text": [
      "3.414213562373095\n",
      "0.5857864376269049\n"
     ]
    }
   ],
   "source": [
    "import numpy as np\n",
    "import math\n",
    "\n",
    "a = 1.\n",
    "b = -4.\n",
    "c = 2.\n",
    "\n",
    "x_1 = (-b + np.sqrt(b**2 - 4*a*c))/(2*a)\n",
    "x_2 = (-b - np.sqrt(b**2 - 4*a*c))/(2*a)\n",
    "\n",
    "print(x_1)\n",
    "print(x_2)\n"
   ]
  },
  {
   "cell_type": "code",
   "execution_count": 8,
   "metadata": {},
   "outputs": [
    {
     "name": "stdout",
     "output_type": "stream",
     "text": [
      "(-1+1.4142135623730951j)\n",
      "(-1-1.4142135623730951j)\n"
     ]
    }
   ],
   "source": [
    "a = 1.0 + 0j\n",
    "b = 2.0 + 0j\n",
    "c = 3.0 + 0j\n",
    "\n",
    "x_1 = (-b + np.sqrt(b**2 - 4*a*c))/(2*a)\n",
    "x_2 = (-b - np.sqrt(b**2 - 4*a*c))/(2*a)\n",
    "\n",
    "print(x_1)\n",
    "print(x_2)"
   ]
  },
  {
   "cell_type": "markdown",
   "metadata": {},
   "source": [
    "# Exercise 5\n",
    "## Write a program to calculate the perimeter $p$ of an n-gon inscribed inside a sphere of diameter $1$. Find $p$ for $n = 3, 4, 5, 100, 10,000,$ and $1,000,000$. \n"
   ]
  },
  {
   "cell_type": "code",
   "execution_count": 55,
   "metadata": {},
   "outputs": [
    {
     "name": "stdout",
     "output_type": "stream",
     "text": [
      "2.598076211353316\n",
      "2.82842712474619\n",
      "2.938926261462366\n",
      "3.141075907812832\n",
      "3.1415926022400824\n",
      "3.141592770102689\n"
     ]
    }
   ],
   "source": [
    "import numpy as np\n",
    "import math\n",
    "\n",
    "\n",
    " \n",
    "r = 1\n",
    "n_1 = 3\n",
    "n_2 = 4\n",
    "n_3 = 5\n",
    "n_4 = 100\n",
    "n_5 = 10000\n",
    "n_6 = 1000000\n",
    "\n",
    "#This is not the perimeter. It is the quotient between the perimeter and the diameter 2\n",
    "\n",
    "p_1 = (n_1/2)*r*np.sqrt(2 - 2*np.cos((2*np.pi)/n_1))\n",
    "p_2 = (n_2/2)*r*np.sqrt(2 - 2*np.cos((2*np.pi)/n_2))\n",
    "p_3 = (n_3/2)*r*np.sqrt(2 - 2*np.cos((2*np.pi)/n_3))\n",
    "p_4 = (n_4/2)*r*np.sqrt(2 - 2*np.cos((2*np.pi)/n_4))\n",
    "p_5 = (n_5/2)*r*np.sqrt(2 - 2*np.cos((2*np.pi)/n_5))\n",
    "p_6 = (n_6/2)*r*np.sqrt(2 - 2*np.cos((2*np.pi)/n_6))\n",
    "\n",
    "print(p_1)\n",
    "print(p_2)\n",
    "print(p_3)\n",
    "print(p_4)\n",
    "print(p_5)\n",
    "print(p_6)"
   ]
  },
  {
   "cell_type": "code",
   "execution_count": null,
   "metadata": {},
   "outputs": [],
   "source": []
  },
  {
   "cell_type": "code",
   "execution_count": null,
   "metadata": {},
   "outputs": [],
   "source": []
  },
  {
   "cell_type": "code",
   "execution_count": null,
   "metadata": {},
   "outputs": [],
   "source": []
  },
  {
   "cell_type": "code",
   "execution_count": null,
   "metadata": {},
   "outputs": [],
   "source": []
  },
  {
   "cell_type": "code",
   "execution_count": null,
   "metadata": {},
   "outputs": [],
   "source": []
  },
  {
   "cell_type": "markdown",
   "metadata": {},
   "source": []
  },
  {
   "cell_type": "code",
   "execution_count": null,
   "metadata": {},
   "outputs": [],
   "source": []
  },
  {
   "cell_type": "code",
   "execution_count": null,
   "metadata": {},
   "outputs": [],
   "source": []
  },
  {
   "cell_type": "code",
   "execution_count": null,
   "metadata": {},
   "outputs": [],
   "source": []
  },
  {
   "cell_type": "code",
   "execution_count": null,
   "metadata": {},
   "outputs": [],
   "source": []
  }
 ],
 "metadata": {
  "kernelspec": {
   "display_name": "Python 3",
   "language": "python",
   "name": "python3"
  },
  "language_info": {
   "codemirror_mode": {
    "name": "ipython",
    "version": 3
   },
   "file_extension": ".py",
   "mimetype": "text/x-python",
   "name": "python",
   "nbconvert_exporter": "python",
   "pygments_lexer": "ipython3",
   "version": "3.6.10"
  }
 },
 "nbformat": 4,
 "nbformat_minor": 4
}
