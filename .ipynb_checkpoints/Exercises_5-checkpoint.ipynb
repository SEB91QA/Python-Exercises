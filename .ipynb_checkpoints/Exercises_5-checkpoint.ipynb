{
 "cells": [
  {
   "cell_type": "markdown",
   "metadata": {},
   "source": [
    "## 1) Write a program to calculate the factorial of a positive integer input by the user. Recall that the factorial function is given by $x! = x(x−1)(x−2)...(2)(1)$ so that $1! = 1, 2! = 2, 3! = 6, 4! = 24, 5! = 120, ...$\n",
    "\n",
    "### (a) Write the factorial function using a Python while loop.\n",
    "### (b) Write the factorial function using a Python for loop.\n",
    "\n",
    "## Check your programs to make sure they work for $1, 2, 3, 5$, and beyond, but especially for the first 5 integers."
   ]
  },
  {
   "cell_type": "code",
   "execution_count": null,
   "metadata": {},
   "outputs": [],
   "source": []
  }
 ],
 "metadata": {
  "kernelspec": {
   "display_name": "Python 3",
   "language": "python",
   "name": "python3"
  },
  "language_info": {
   "codemirror_mode": {
    "name": "ipython",
    "version": 3
   },
   "file_extension": ".py",
   "mimetype": "text/x-python",
   "name": "python",
   "nbconvert_exporter": "python",
   "pygments_lexer": "ipython3",
   "version": "3.6.10"
  }
 },
 "nbformat": 4,
 "nbformat_minor": 4
}
