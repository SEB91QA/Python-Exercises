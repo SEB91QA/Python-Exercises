{
 "cells": [
  {
   "cell_type": "markdown",
   "metadata": {},
   "source": [
    "## 1) Write a program to calculate the factorial of a positive integer input by the user. Recall that the factorial function is given by $x! = x(x−1)(x−2)...(2)(1)$ so that $1! = 1, 2! = 2, 3! = 6, 4! = 24, 5! = 120, ...$\n",
    "\n",
    "### (a) Write the factorial function using a Python while loop.\n",
    "### (b) Write the factorial function using a Python for loop.\n",
    "\n",
    "## Check your programs to make sure they work for $1, 2, 3, 5$, and beyond, but especially for the first 5 integers."
   ]
  },
  {
   "cell_type": "code",
   "execution_count": 3,
   "metadata": {},
   "outputs": [
    {
     "name": "stdout",
     "output_type": "stream",
     "text": [
      "Por favor introduzca un número5\n",
      "120\n"
     ]
    }
   ],
   "source": [
    "\n",
    "#For loop\n",
    "f = 1\n",
    "n = int(input(\"Por favor introduzca un número\"))\n",
    "\n",
    "    \n",
    "for i in range(1,n+1):\n",
    "    f *= i\n",
    "    \n",
    "print(f)\n"
   ]
  },
  {
   "cell_type": "code",
   "execution_count": 4,
   "metadata": {},
   "outputs": [
    {
     "name": "stdout",
     "output_type": "stream",
     "text": [
      "Por favor introduzca un número5\n",
      "120\n"
     ]
    }
   ],
   "source": [
    "#While loop\n",
    "\n",
    "f = 1\n",
    "i = 1\n",
    "\n",
    "n = int(input(\"Por favor introduzca un número\"))\n",
    "\n",
    "while i <= n:\n",
    "    f *= i\n",
    "    i += 1\n",
    "print(f)"
   ]
  },
  {
   "cell_type": "markdown",
   "metadata": {},
   "source": [
    "## 2) The following Python program finds the smallest non-trivial (not 1) prime factor of a positive integer\n",
    "\n",
    "\n",
    "### n = int(input(\"Input an integer > 1: \")) i=2\n",
    "### while (n % i) != 0:\n",
    "### i += 1\n",
    "### print(\"The smallest factor of {0:d} is {1:d}\".format(n, i))\n",
    "\n",
    "\n",
    "## (a) Type this program into your computer and verify that it works as advertised. Then briefly explain how it works and why the while loop always terminates.\n",
    "\n",
    "## (b) Modify the program so that it tells you if the integer in put is a prime number or not. If it is not a prime number, write your program so that it prints out the smallest prime factor. Using your program verify that the following integers are prime numbers: 101, 8191, 94811, 947431."
   ]
  },
  {
   "cell_type": "code",
   "execution_count": 5,
   "metadata": {},
   "outputs": [
    {
     "name": "stdout",
     "output_type": "stream",
     "text": [
      "Input an integer > 1: 49\n",
      "The smallest factor of 49 is 7\n"
     ]
    }
   ],
   "source": [
    "\n",
    "#Inputs an integer\n",
    "n = int(input(\"Input an integer > 1: \")) \n",
    "\n",
    "#The smallest prime number\n",
    "i = 2\n",
    "\n",
    "#The while loop stablishes which is the smallest adding to i value\n",
    "while (n % i) != 0:\n",
    "    i += 1\n",
    "print(\"The smallest factor of {0:d} is {1:d}\".format(n, i))\n",
    "\n",
    "\n"
   ]
  },
  {
   "cell_type": "code",
   "execution_count": 29,
   "metadata": {},
   "outputs": [
    {
     "name": "stdout",
     "output_type": "stream",
     "text": [
      "Input an integer: 23\n",
      "El número 23 es primo\n",
      "The smallest factor of 23 is 2\n"
     ]
    }
   ],
   "source": [
    "m = int(input(\"Input an integer: \"))\n",
    "\n",
    "c = 0\n",
    "j = 2\n",
    "\n",
    "for i in range(2, m):\n",
    "    #print(i)\n",
    "    if m%i == 0:\n",
    "        c += 1\n",
    "\n",
    "if(c == 0):\n",
    "    print(\"El número {0:d} es primo\".format(m))\n",
    "    \n",
    "else:\n",
    "    print(\"El número {0:d} no es primo\".format(m))\n",
    "    \n",
    "    while (m%j) != 0:\n",
    "        j += 1\n",
    "        \n",
    "print(\"The smallest factor of {0:d} is {1:d}\".format(m, j))\n",
    "    \n",
    "    \n",
    "        \n",
    "\n",
    "\n"
   ]
  },
  {
   "cell_type": "code",
   "execution_count": null,
   "metadata": {},
   "outputs": [],
   "source": []
  },
  {
   "cell_type": "code",
   "execution_count": null,
   "metadata": {},
   "outputs": [],
   "source": []
  }
 ],
 "metadata": {
  "kernelspec": {
   "display_name": "Python 3",
   "language": "python",
   "name": "python3"
  },
  "language_info": {
   "codemirror_mode": {
    "name": "ipython",
    "version": 3
   },
   "file_extension": ".py",
   "mimetype": "text/x-python",
   "name": "python",
   "nbconvert_exporter": "python",
   "pygments_lexer": "ipython3",
   "version": "3.6.10"
  }
 },
 "nbformat": 4,
 "nbformat_minor": 4
}
