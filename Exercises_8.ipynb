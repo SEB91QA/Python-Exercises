{
 "cells": [
  {
   "cell_type": "markdown",
   "metadata": {},
   "source": [
    "# (1) Fit the data below to a straight line using the function $LineFitWt(x, y, dy)$ introduced in the program betaDecay.py on page $190$. Plot the data and the fit so that you obtain a figure like the one below, which includes the best fit (solid line) along with two fits shown with dashed lines. One has a slope equal to the fitted slope plus the slope uncertainty obtained from the fit. The other has a slope equal to the fitted slope minus the slope uncertainty obtained from the fit. These are matched with the fitted $y$- intercept minus or plus its fitted uncertainty."
   ]
  },
  {
   "cell_type": "code",
   "execution_count": 21,
   "metadata": {},
   "outputs": [
    {
     "data": {
      "text/plain": [
       "Text(0, 0.5, 'Force(N)')"
      ]
     },
     "execution_count": 21,
     "metadata": {},
     "output_type": "execute_result"
    },
    {
     "data": {
      "image/png": "[encoded data removed]",
      "text/plain": [
       "<Figure size 432x288 with 1 Axes>"
      ]
     },
     "metadata": {
      "needs_background": "light"
     },
     "output_type": "display_data"
    }
   ],
   "source": [
    "import numpy as np\n",
    "import matplotlib.pyplot as plt\n",
    "\n",
    "\n",
    "def LineFitWt(x, y, dy):\n",
    "    \n",
    "    invdy2 = 1/dy**2\n",
    "    xhat = (x*invdy2).sum()/invdy2.sum()\n",
    "    yhat = (y*invdy2).sum()/invdy2.sum()\n",
    "    \n",
    "    b = ((x - xhat)*y*invdy2).sum()/((x - xhat)*x*invdy2).sum()\n",
    "    a = yhat - b*xhat\n",
    "\n",
    "    return a, b\n",
    "\n",
    "d = np.array([0.38, 0.64, 0.91, 1.26, 1.41, 1.66, 1.90, 2.18])\n",
    "f = np.array([1.4, 1.65, 3.0, 3.95, 4.3, 5.20, 6.85, 7.4])\n",
    "df = np.array([0.4, 0.5, 0.4, 0.5, 0.6, 0.5, 0.5, 0.4])\n",
    "\n",
    "\n",
    "A, B = LineFitWt(d, f, df)\n",
    "\n",
    "x = np.linspace(0, 2.5, 100)\n",
    "y = A + B*x\n",
    "\n",
    "\n",
    "fig, ax = plt.subplots(figsize=(6,4))\n",
    "ax.plot(x, y, linestyle='--', color='red')\n",
    "ax.errorbar(d, f, yerr = df, fmt='oC0' ,ecolor='black')\n",
    "ax.set_xlabel('Distance(cm)')\n",
    "ax.set_ylabel('Force(N)')"
   ]
  },
  {
   "cell_type": "code",
   "execution_count": null,
   "metadata": {},
   "outputs": [],
   "source": []
  }
 ],
 "metadata": {
  "kernelspec": {
   "display_name": "Python 3",
   "language": "python",
   "name": "python3"
  },
  "language_info": {
   "codemirror_mode": {
    "name": "ipython",
    "version": 3
   },
   "file_extension": ".py",
   "mimetype": "text/x-python",
   "name": "python",
   "nbconvert_exporter": "python",
   "pygments_lexer": "ipython3",
   "version": "3.6.10"
  }
 },
 "nbformat": 4,
 "nbformat_minor": 4
}
