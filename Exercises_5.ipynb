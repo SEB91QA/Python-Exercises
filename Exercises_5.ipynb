{
 "cells": [
  {
   "cell_type": "markdown",
   "metadata": {},
   "source": [
    "## 1) Write a program to calculate the factorial of a positive integer input by the user. Recall that the factorial function is given by $x! = x(x−1)(x−2)...(2)(1)$ so that $1! = 1, 2! = 2, 3! = 6, 4! = 24, 5! = 120, ...$\n",
    "\n",
    "### (a) Write the factorial function using a Python while loop.\n",
    "### (b) Write the factorial function using a Python for loop.\n",
    "\n",
    "## Check your programs to make sure they work for $1, 2, 3, 5$, and beyond, but especially for the first 5 integers."
   ]
  },
  {
   "cell_type": "code",
   "execution_count": 3,
   "metadata": {},
   "outputs": [
    {
     "name": "stdout",
     "output_type": "stream",
     "text": [
      "Por favor introduzca un número5\n",
      "120\n"
     ]
    }
   ],
   "source": [
    "\n",
    "#For loop\n",
    "f = 1\n",
    "n = int(input(\"Por favor introduzca un número: \"))\n",
    "\n",
    "    \n",
    "for i in range(1,n+1):\n",
    "    f *= i\n",
    "    \n",
    "print(f)\n"
   ]
  },
  {
   "cell_type": "code",
   "execution_count": 4,
   "metadata": {},
   "outputs": [
    {
     "name": "stdout",
     "output_type": "stream",
     "text": [
      "Por favor introduzca un número5\n",
      "120\n"
     ]
    }
   ],
   "source": [
    "#While loop\n",
    "\n",
    "f = 1\n",
    "i = 1\n",
    "\n",
    "n = int(input(\"Por favor introduzca un número: \"))\n",
    "\n",
    "while i <= n:\n",
    "    f *= i\n",
    "    i += 1\n",
    "print(f)"
   ]
  },
  {
   "cell_type": "markdown",
   "metadata": {},
   "source": [
    "## 2) The following Python program finds the smallest non-trivial (not 1) prime factor of a positive integer\n",
    "\n",
    "\n",
    "### n = int(input(\"Input an integer > 1: \")) i=2\n",
    "### while (n % i) != 0:\n",
    "### i += 1\n",
    "### print(\"The smallest factor of {0:d} is {1:d}\".format(n, i))\n",
    "\n",
    "\n",
    "## (a) Type this program into your computer and verify that it works as advertised. Then briefly explain how it works and why the while loop always terminates.\n",
    "\n",
    "## (b) Modify the program so that it tells you if the integer in put is a prime number or not. If it is not a prime number, write your program so that it prints out the smallest prime factor. Using your program verify that the following integers are prime numbers: 101, 8191, 94811, 947431."
   ]
  },
  {
   "cell_type": "code",
   "execution_count": 5,
   "metadata": {},
   "outputs": [
    {
     "name": "stdout",
     "output_type": "stream",
     "text": [
      "Input an integer > 1: 49\n",
      "The smallest factor of 49 is 7\n"
     ]
    }
   ],
   "source": [
    "\n",
    "#Inputs an integer\n",
    "n = int(input(\"Input an integer > 1: \")) \n",
    "\n",
    "#The smallest prime number\n",
    "i = 2\n",
    "\n",
    "#The while loop stablishes which is the smallest adding to i value\n",
    "while (n % i) != 0:\n",
    "    i += 1\n",
    "print(\"The smallest factor of {0:d} is {1:d}\".format(n, i))\n",
    "\n",
    "\n"
   ]
  },
  {
   "cell_type": "code",
   "execution_count": 29,
   "metadata": {},
   "outputs": [
    {
     "name": "stdout",
     "output_type": "stream",
     "text": [
      "Input an integer: 23\n",
      "El número 23 es primo\n",
      "The smallest factor of 23 is 2\n"
     ]
    }
   ],
   "source": [
    "m = int(input(\"Input an integer: \"))\n",
    "\n",
    "c = 0\n",
    "j = 2\n",
    "\n",
    "for i in range(2, m):\n",
    "    #print(i)\n",
    "    if m%i == 0:\n",
    "        c += 1\n",
    "\n",
    "if(c == 0):\n",
    "    print(\"El número {0:d} es primo\".format(m))\n",
    "    \n",
    "else:\n",
    "    print(\"El número {0:d} no es primo\".format(m))\n",
    "    \n",
    "    while (m%j) != 0:\n",
    "        j += 1\n",
    "        \n",
    "print(\"The smallest factor of {0:d} is {1:d}\".format(m, j))\n",
    "    \n",
    "    \n",
    "        \n",
    "\n",
    "\n"
   ]
  },
  {
   "cell_type": "markdown",
   "metadata": {},
   "source": [
    "## 3) Consider the matrix list $x = [[1, 2, 3], [4, 5, 6], [7, 8, 9]]$. Write a list comprehension to extract the last column of the matrix $[3, 6, 9]$. Write another list comprehension to create a vector of twice the square of the middle column$[8, 50, 128]$."
   ]
  },
  {
   "cell_type": "code",
   "execution_count": 24,
   "metadata": {},
   "outputs": [
    {
     "name": "stdout",
     "output_type": "stream",
     "text": [
      "[3, 6, 9]\n",
      "[8, 50, 128]\n"
     ]
    }
   ],
   "source": [
    "\n",
    "#Extracting Column [3,6,9]\n",
    "x = [[1,2,3],[4,5,6],[7,8,9]]\n",
    "\n",
    "l = len(x)\n",
    "\n",
    "c = [x[i][2] for i in range(l)]\n",
    "print(c)\n",
    "\n",
    "\n",
    "#Creating the vector[8, 50, 128]\n",
    "\n",
    "m = [2*(x[i][1]**2) for i in range(l)]\n",
    "print(m)\n"
   ]
  },
  {
   "cell_type": "markdown",
   "metadata": {},
   "source": [
    "## 4) Write a program that calculates the value of an investment after some number of years specified by the user if\n",
    "\n",
    "### a) the principal is compounded annually\n",
    "### b) the principle is compounded monthly\n",
    "### c) the principle is compounded daily\n",
    "\n",
    "## Your program should ask the user for the initial investment (principal), the interest rate in percent, and the number of years the money will be invested (allow for fractional years). For an initial investment of $1000$ at an interest rate of $6%$, after $10$ years I get $1790.85$ when compounded annually, $1819.40$ when compounded monthly, and $1822.03$ when compounded daily, assuming $12$ months in a year and $365.24$ days in a year, where the monthly interest rate is the annual rate divided by $12$ and the daily rate is the annual rate divided by $365$ (don’t worry about leap years)."
   ]
  },
  {
   "cell_type": "code",
   "execution_count": null,
   "metadata": {},
   "outputs": [],
   "source": [
    "# a) the principal is compounded annually\n",
    "\n",
    "p = int(input(\"Digite el valor de la inversión principal: \"))\n",
    "\n",
    "#Anual\n",
    "r = 0.06\n",
    "t = 10\n",
    "a = p*(1+r)**t\n",
    "\n",
    "#Monthly\n",
    "rm = 0.06/12\n",
    "tm = 12\n",
    "am = p*(1+rm)**(t*12)\n",
    "\n",
    "#Daily\n",
    "dm = 0.06/365\n",
    "td = 365\n",
    "ad = p*(1+dm)**(t*365)\n",
    "\n",
    "print(\"El monto del depósito a final del año es: {0:0.2f}\".format(a))\n",
    "print(\"El monto del depósito a final del año, con interés anual es: {0:0.2f}\".format(am))\n",
    "print(\"El monto del depósito a final del año, con interés diario es: {0:0.2f}\".format(ad))"
   ]
  },
  {
   "cell_type": "markdown",
   "metadata": {},
   "source": [
    "## 5) Write a program that determines the day of the week for any given calendar date after January $1$, $1900$, which was a Monday. Your program will need to take into account leap years, which occur in every year that is divisible by $4$, except for years that are divisible by $100$ but are not divisible by $400$. For example, $1900$ was not a leap year, but $2000$ was a leap year. Test that your program gives the answers tabulated below."
   ]
  },
  {
   "cell_type": "code",
   "execution_count": 12,
   "metadata": {},
   "outputs": [
    {
     "name": "stdout",
     "output_type": "stream",
     "text": [
      "Please digit a year: 2300\n",
      "The year 2300 is not a leap year\n"
     ]
    }
   ],
   "source": [
    "import numpy as np\n",
    "\n",
    "a = int(input(\"Please input a year: \"))\n",
    "m = input(\"Please input a month: \")\n",
    "ds = {}\n",
    "#d = input(\"Por favor digite un día del mes\")\n",
    "\n",
    "if a%4 == 0:\n",
    "    \n",
    "    if (a%100 == 0) and (a%400 != 0):\n",
    "        print(\"The year {0:d} is not a leap year\".format(a))\n",
    "    \n",
    "    else:\n",
    "        print(\"The year {0:d} is a leap year\".format(a))\n",
    "        \n",
    "else:\n",
    "    print(\"The year {0:d} is not a leap year\".format(a))\n",
    "    \n",
    "\n",
    "#How to get the month and day\n",
    "    "
   ]
  },
  {
   "cell_type": "code",
   "execution_count": null,
   "metadata": {},
   "outputs": [],
   "source": []
  }
 ],
 "metadata": {
  "kernelspec": {
   "display_name": "Python 3",
   "language": "python",
   "name": "python3"
  },
  "language_info": {
   "codemirror_mode": {
    "name": "ipython",
    "version": 3
   },
   "file_extension": ".py",
   "mimetype": "text/x-python",
   "name": "python",
   "nbconvert_exporter": "python",
   "pygments_lexer": "ipython3",
   "version": "3.8.5"
  }
 },
 "nbformat": 4,
 "nbformat_minor": 4
}
