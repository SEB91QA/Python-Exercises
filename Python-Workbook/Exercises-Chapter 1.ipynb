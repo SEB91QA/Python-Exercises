{
 "cells": [
  {
   "cell_type": "markdown",
   "metadata": {},
   "source": [
    "# Exercises"
   ]
  },
  {
   "cell_type": "markdown",
   "metadata": {},
   "source": [
    "## Exercise 1: Mailing Address \n",
    "\n",
    "### Create a program that displays your name and complete mailing address. The address should be printed in the format that is normally used in the area where you live. Your program does not need to read any input from the user."
   ]
  },
  {
   "cell_type": "code",
   "execution_count": 2,
   "metadata": {},
   "outputs": [
    {
     "name": "stdout",
     "output_type": "stream",
     "text": [
      "Jack Ford\n",
      "Third Republic Avenue 67/86\n",
      "Sydney, New South Wales\n",
      "\n",
      "\n",
      "Department of Mathematics - University of New South Wales\n",
      "Dean Oliver Mac\n",
      "LAC Avenue\n",
      "Sydney, New South Wales\n"
     ]
    }
   ],
   "source": [
    "print('Jack Ford')\n",
    "print('Third Republic Avenue 67/86')\n",
    "print('Sydney, New South Wales')\n",
    "\n",
    "print('\\n')\n",
    "\n",
    "print('Department of Mathematics - University of New South Wales')\n",
    "print('Dean Oliver Mac')\n",
    "print('LAC Avenue')\n",
    "print('Sydney, New South Wales')"
   ]
  },
  {
   "cell_type": "markdown",
   "metadata": {},
   "source": [
    "## Exercise 2: Hello\n",
    "### Write a program that asks the user to enter his or her name. The program should respond with a message that says hello to the user, using his or her name."
   ]
  },
  {
   "cell_type": "code",
   "execution_count": 3,
   "metadata": {},
   "outputs": [
    {
     "name": "stdout",
     "output_type": "stream",
     "text": [
      "Please enter your name: Jack\n",
      "Hello  Jack\n"
     ]
    }
   ],
   "source": [
    "name = input(\"Please enter your name: \")\n",
    "print(\"Hello \", name)"
   ]
  },
  {
   "cell_type": "markdown",
   "metadata": {},
   "source": [
    "## Exercise 3: Area of a Room\n",
    "\n",
    "### Write a program that asks the user to enter the width and length of a room. Once these values have been read, your program should compute and display the area of the room. The length and the width will be entered as floating-point numbers. Include units in your prompt and output message; either feet or meters, depending on which unit you are more comfortable working with."
   ]
  },
  {
   "cell_type": "code",
   "execution_count": 7,
   "metadata": {},
   "outputs": [
    {
     "name": "stdout",
     "output_type": "stream",
     "text": [
      "Please enter the length of a room (m) 40\n",
      "Please enter the width of a room (m)4\n",
      "The area of the room is 160.0 m^2\n"
     ]
    }
   ],
   "source": [
    "#Area of a Room\n",
    "\n",
    "length = float(input('Please enter the length of a room (m) '))\n",
    "width = float(input('Please enter the width of a room (m)'))\n",
    "\n",
    "a = length * width\n",
    "\n",
    "print('The area of the room is', a, 'm^2')"
   ]
  },
  {
   "cell_type": "markdown",
   "metadata": {},
   "source": [
    "## Exercise 4: Area of a Field\n",
    "### Create a program that reads the length and width of a farmer’s field from the user in feet. Display the area of the field in acres."
   ]
  },
  {
   "cell_type": "code",
   "execution_count": 8,
   "metadata": {},
   "outputs": [
    {
     "name": "stdout",
     "output_type": "stream",
     "text": [
      "Please enter the length of a room (f) 40\n",
      "Please enter the width of a room (f)40\n",
      "The area of the field in acres is  36.73\n"
     ]
    }
   ],
   "source": [
    "# Area of a field in acres given in feet\n",
    "\n",
    "length = float(input('Please enter the length of a room (f)'))\n",
    "width = float(input('Please enter the width of a room (f)'))\n",
    "\n",
    "a = length * width\n",
    "\n",
    "a_acr = a/(43.560)\n",
    "\n",
    "print('The area of the field in acres is ', '%.2f' % a_acr)\n"
   ]
  },
  {
   "cell_type": "code",
   "execution_count": null,
   "metadata": {},
   "outputs": [],
   "source": []
  }
 ],
 "metadata": {
  "kernelspec": {
   "display_name": "Python 3",
   "language": "python",
   "name": "python3"
  },
  "language_info": {
   "codemirror_mode": {
    "name": "ipython",
    "version": 3
   },
   "file_extension": ".py",
   "mimetype": "text/x-python",
   "name": "python",
   "nbconvert_exporter": "python",
   "pygments_lexer": "ipython3",
   "version": "3.6.10"
  }
 },
 "nbformat": 4,
 "nbformat_minor": 4
}
