{
 "cells": [
  {
   "cell_type": "markdown",
   "metadata": {},
   "source": [
    "# Exercises"
   ]
  },
  {
   "cell_type": "markdown",
   "metadata": {},
   "source": [
    "## Exercise 1: Mailing Address "
   ]
  },
  {
   "cell_type": "markdown",
   "metadata": {},
   "source": [
    "### Create a program that displays your name and complete mailing address. The address should be printed in the format that is normally used in the area where you live. Your program does not need to read any input from the user."
   ]
  },
  {
   "cell_type": "code",
   "execution_count": 5,
   "metadata": {},
   "outputs": [
    {
     "name": "stdout",
     "output_type": "stream",
     "text": [
      "Jack Ford\n",
      "Third Republic Avenue 67/86\n",
      "Sydney, New South Wales\n",
      "\n",
      "\n",
      "Department of Mathematics - University of New South Wales\n",
      "Dean Oliver Mac\n",
      "LAC Avenue\n",
      "Sydney, New South Wales\n"
     ]
    }
   ],
   "source": [
    "print('Jack Ford')\n",
    "print('Third Republic Avenue 67/86')\n",
    "print('Sydney, New South Wales')\n",
    "\n",
    "print('\\n')\n",
    "\n",
    "print('Department of Mathematics - University of New South Wales')\n",
    "print('Dean Oliver Mac')\n",
    "print('LAC Avenue')\n",
    "print('Sydney, New South Wales')"
   ]
  },
  {
   "cell_type": "code",
   "execution_count": null,
   "metadata": {},
   "outputs": [],
   "source": []
  }
 ],
 "metadata": {
  "kernelspec": {
   "display_name": "Python 3",
   "language": "python",
   "name": "python3"
  },
  "language_info": {
   "codemirror_mode": {
    "name": "ipython",
    "version": 3
   },
   "file_extension": ".py",
   "mimetype": "text/x-python",
   "name": "python",
   "nbconvert_exporter": "python",
   "pygments_lexer": "ipython3",
   "version": "3.6.10"
  }
 },
 "nbformat": 4,
 "nbformat_minor": 4
}
